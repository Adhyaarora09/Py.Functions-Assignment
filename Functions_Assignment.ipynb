{
  "nbformat": 4,
  "nbformat_minor": 0,
  "metadata": {
    "colab": {
      "provenance": []
    },
    "kernelspec": {
      "name": "python3",
      "display_name": "Python 3"
    },
    "language_info": {
      "name": "python"
    }
  },
  "cells": [
    {
      "cell_type": "markdown",
      "source": [
        "           Theory Answer:-\n",
        "\n",
        "\n",
        "1Que:- What is the difference between a function and a method in Python?\n",
        "\n",
        "Ans:- Here, key differences between Method and Function in Python are explained. Java is also an OOP language, but there is no concept of Function in it. But Python has both concept of Method and Function.\n",
        "\n",
        "Python Method\n",
        "\n",
        "Method is called by its name, but it is associated to an object (dependent).\n",
        "\n",
        "A method definition always includes 'self' as its first parameter.\n",
        "\n",
        "A method is implicitly passed to the object on which it is invoked.\n",
        "\n",
        "It may or may not return any data.\n",
        "\n",
        "A method can operate on the data (instance variables) that is contained by the corresponding class.\n",
        "\n",
        "\n",
        "Basic Method Structure in Python :\n",
        "\n",
        "Example:\n",
        "\n",
        "# Basic Python method\n",
        "class class_name\n",
        "    def method_name () :\n",
        "        ......\n",
        "        # method body\n",
        "        ......\n",
        "\n",
        "\n",
        "Python 3 User-Defined Method :\n",
        "\n",
        "# Python 3  User-Defined  Method\n",
        "class ABC :\n",
        "    def method_abc (self):\n",
        "        print(\"I am in method_abc of ABC class. \")\n",
        "\n",
        "class_ref = ABC() # object of ABC class\n",
        "class_ref.method_abc()\n",
        "\n",
        "Output:\n",
        "\n",
        " I am in method_abc of ABC class.\n",
        "\n",
        " Functions\n",
        "\n",
        "Function is block of code that is also called by its name. (independent)\n",
        "\n",
        "The function can have different parameters or may not have any at all. If any data (parameters) are passed, they are passed explicitly.\n",
        "\n",
        "It may or may not return any data.\n",
        "\n",
        "Function does not deal with Class and its instance concept.\n",
        "\n",
        "\n",
        "Basic Function Structure in Python :\n",
        "\n",
        "Example:\n",
        "\n",
        "  def function_name ( arg1, arg2, ...) :\n",
        "    ......\n",
        "    # function body\n",
        "    ......\n",
        "\n",
        "def Subtract (a, b):\n",
        "    return (a-b)\n",
        "\n",
        "print( Subtract(10, 12) ) # prints -2\n",
        "\n",
        "print( Subtract(15, 6) ) # prints 9\n",
        "\n",
        "Output:\n",
        "\n",
        "-2\n",
        "\n",
        "9\n",
        "\n",
        "2Que:- . Explain the concept of function arguments and parameters in Python?\n",
        "\n",
        "Ans:-  Parameters: are variables defined in a function declaration. This act as placeholders for the values (arguments) that will be passed to the function.\n",
        "\n",
        "Arguments: are the actual values that you pass to the function when you call it. These values replace the parameters defined in the function.\n",
        "\n",
        "Although these terms are often used interchangeably, they have distinct roles within a function. This article focuses to clarify them and help us to use Parameters and Arguments effectively.\n",
        "\n",
        "Parameters:\n",
        "\n",
        "A parameter is the variable defined within the parentheses when we declare a function.\n",
        "\n",
        "Example:-\n",
        "\n",
        "# Here a,b are the parameters\n",
        "\n",
        "def sum(a,b):\n",
        "\n",
        "   print(a+b)\n",
        "  \n",
        "sum(1,2)\n",
        "\n",
        "Output:\n",
        "\n",
        " 3\n",
        "\n",
        "Arguments:\n",
        "\n",
        "An argument is a value that is passed to a function when it is called. It might be a variable, value or object passed to a function or method as input.\n",
        "\n",
        "Example:\n",
        "\n",
        "def sum(a,b):\n",
        "\n",
        "  print(a+b)\n",
        "  \n",
        "# Here the values 1,2 are arguments\n",
        "\n",
        "sum(1,2)\n",
        "\n",
        "Output:\n",
        "\n",
        "3\n",
        "\n",
        "3Que:- What are the different ways to define and call a function in Python?\n",
        "\n",
        "Ans:- In Python, defining and calling functions is simple and may greatly improve the readability and reusability of our code. In this article, we will explore How we can define and call a function.\n",
        "\n",
        "# Defining a function\n",
        "\n",
        "def fun():\n",
        "\n",
        "    print(\"Welcome to GFG\")\n",
        "    \n",
        "# calling a function  \n",
        "\n",
        "fun()\n",
        "\n",
        "Example:\n",
        "\n",
        "# Defining a function\n",
        "\n",
        "def fun():\n",
        "\n",
        "    print(\"Welcome to GFG\")\n",
        "    \n",
        "# calling a function   \n",
        "\n",
        "fun()\n",
        "\n",
        "Output:\n",
        "\n",
        "Welcome to GFG\n",
        "\n",
        "\n",
        "4Que:-  What is the purpose of the `return` statement in a Python function?\n",
        "\n",
        "Ans:- A return statement is used to end the execution of the function call and it \"returns\" the value of the expression following the return keyword to the caller. The statements after the return statements are not executed. If the return statement is without any expression, then the special value None is returned. A return statement is overall used to invoke a function so that the passed statements can be executed.\n",
        "\n",
        "Example:\n",
        "\n",
        "A return statement is used to end the execution of the function call and it \"returns\" the value of the expression following the return keyword to the caller. The statements after the return statements are not executed. If the return statement is without any expression, then the special value None is returned. A return statement is overall used to invoke a function so that the passed statements can be executed.\n",
        "\n",
        "Example:\n",
        "\n",
        "def add(a, b):\n",
        "\n",
        "    # returning sum of a and b\n",
        "    return a + b\n",
        "\n",
        "def is_true(a):\n",
        "\n",
        "    # returning boolean of a\n",
        "    return bool(a)\n",
        "\n",
        "# calling function\n",
        "res = add(2, 3)\n",
        "print(res)\n",
        "\n",
        "res = is_true(2<5)\n",
        "print(res)\n",
        "\n",
        "\n",
        "Output:\n",
        "\n",
        "5\n",
        "True\n",
        "\n",
        "\n",
        "5Que:  What are iterators in Python and how do they differ from iterables?\n",
        "\n",
        "Ans:- Iterable is an object, that one can iterate over. It generates an Iterator when passed to iter() method. An iterator is an object, which is used to iterate over an iterable object using the __next__() method. Iterators have the __next__() method, which returns the next item of the object.\n",
        "\n",
        "Note: Every iterator is also an iterable, but not every iterable is an iterator in Python.\n",
        "\n",
        "For example, a list is iterable but a list is not an iterator. An iterator can be created from an iterable by using the function iter(). To make this possible, the class of an object needs either a method __iter__, which returns an iterator, or a __getitem__ method with sequential indexes starting with 0.\n",
        "\n",
        "Example 1:\n",
        "\n",
        "We know that str is iterable but it is not an iterator. where if we run this in for loop to print string then it is possible because when for loop executes it converts into an iterator to execute the code.\n",
        "\n",
        "# code\n",
        "next(\"GFG\")\n",
        "\n",
        "Traceback (most recent call last):\n",
        "  File \"/home/1c9622166e9c268c0d67cd9ba2177142.py\", line 2, in <module>\n",
        "    next(\"GFG\")\n",
        "\n",
        "TypeError: 'str' object is not an iterator\n",
        "\n",
        "Here iter( ) is converting s which is a string (iterable) into an iterator and prints G for the first time we can call multiple times to iterate over strings.\n",
        "\n",
        "When a for loop is executed, for statement calls iter() on the object, which it is supposed to loop over.\n",
        "\n",
        "If this call is successful, the iter call will return an iterator object that defines the method __next__(), which accesses elements of the object one at a time.\n",
        "\n",
        "\n",
        "# code\n",
        "s=\"GFG\"\n",
        "s=iter(s)\n",
        "print(s)\n",
        "print(next(s))\n",
        "print(next(s))\n",
        "print(next(s))\n",
        "\n",
        "Output:\n",
        "\n",
        "<str_iterator object at 0x7f822a9c3210>\n",
        "\n",
        "G\n",
        "F\n",
        "G\n",
        "\n",
        "The __next__() method will raise a StopIteration exception if there are no further elements available.\n",
        "\n",
        "The for loop will terminate as soon as it catches a StopIteration exception.\n",
        "\n",
        "Let's call the __next__() method using the next() built-in function.\n",
        "\n",
        "\n",
        "6Que:-  Explain the concept of generators in Python and how they are defined.\n",
        "\n",
        "Ans:- Python generator functions are a powerful tool for creating iterators. In this article, we will discuss how the generator function works in Python.\n",
        "\n",
        "Generator Function in Python:\n",
        "\n",
        "A generator function is a special type of function that returns an iterator object. Instead of using return to send back a single value, generator functions use yield to produce a series of results over time. This allows the function to generate values and pause its execution after each yield, maintaining its state between iterations.\n",
        "\n",
        "Basic Code Example:\n",
        "\n",
        "def fun(max):\n",
        "    cnt = 1\n",
        "    while cnt <= max:\n",
        "        yield cnt\n",
        "        cnt += 1\n",
        "\n",
        "ctr = fun(5)\n",
        "for n in ctr:\n",
        "    print(n)\n",
        "\n",
        "Output:\n",
        "\n",
        "1\n",
        "\n",
        "2\n",
        "\n",
        "3\n",
        "\n",
        "4\n",
        "\n",
        "5\n",
        "\n",
        "Yield vs Return:\n",
        "\n",
        "yield is used in generator functions to provide a sequence of values over time. When yield is executed, it pauses the function, returns the current value and retains the state of the function. This allows the function to continue from the same point when called again, making it ideal for generating large or complex sequences efficiently.\n",
        "\n",
        "return, on the other hand, is used to exit a function and return a final value. Once return is executed, the function is terminated immediately, and no state is retained. This is suitable for cases where a single result is needed from a function.\n",
        "\n",
        "Example with return:\n",
        "\n",
        "def fun():\n",
        "\n",
        "    return 1 + 2 + 3\n",
        "\n",
        "res = fun()\n",
        "\n",
        "print(res)\n",
        "\n",
        "Output:\n",
        "\n",
        "6\n",
        "\n",
        "Python Generator Expression:\n",
        "\n",
        "Generator expressions are a concise way to create generators. They are similar to list comprehensions but use parentheses instead of square brackets and are more memory efficient.\n",
        "\n",
        "The generator expression in Python has the following Syntax:\n",
        "\n",
        "(expression for item in iterable)\n",
        "\n",
        "Example:\n",
        "\n",
        "In this example, we will create a generator object that will print the multiples of 5 between the range of 0 to 5 which are also divisible by 2.\n",
        "\n",
        "\n",
        "sq = (x*x for x in range(1, 6))\n",
        "\n",
        "for i in sq:\n",
        "\n",
        "    print(i)\n",
        "\n",
        "\n",
        "7Que:  What are the advantages of using generators over regular functions?\n",
        "\n",
        "Ans: Advantages of Generators Over Regular Functions:\n",
        "\n",
        "There are several advantages to using generators over regular loops.\n",
        "\n",
        " Here are a few of the most important ones:\n",
        "\n",
        "Memory Efficiency: One of the biggest advantages of generators is that they are memory efficient. Since a generator yields its values one by one, it does not need to store all of the values in memory at once. This can be especially useful when working with large data sets, as it reduces the risk of running out of memory.\n",
        "\n",
        "Readability: Generators can make your code easier to read and understand. By breaking up the iteration process into smaller chunks, you can write code that is more concise and easier to follow.\n",
        "Speed: Generators can also be faster than regular loops, especially when working with large data sets. This is because they avoid the overhead of creating a list or other data structure to store the results.\n",
        "\n",
        "Here’s an example that demonstrates the memory efficiency and readability benefits of generators:\n",
        "\n",
        "def first_million_numbers():\n",
        "\n",
        "    for i in range(1000000):\n",
        "\n",
        "        yield i\n",
        "\n",
        "gen = first_million_numbers()\n",
        "\n",
        "print(sum(gen))\n",
        "\n",
        "In this example, the generator first_million_numbers generates the first million numbers and yields them one by one. The sum function consumes the generator and calculates the sum of all the numbers. Since the generator yields its values one by one, it does not need to store all of the values in memory at once.\n",
        "\n",
        "\n",
        "8Que:-  What is a lambda function in Python and when is it typically used?\n",
        "\n",
        "Ans:- Python Lambda Functions are anonymous functions means that the function is without a name. As we already know the def keyword is used to define a normal function in Python. Similarly, the lambda keyword is used to define an anonymous function in Python.\n",
        "\n",
        "Example:\n",
        "\n",
        "In the example, we defined a lambda function(upper) to convert a string to its upper case using upper().\n",
        "\n",
        "s1 = 'GeeksforGeeks'\n",
        "\n",
        "s2 = lambda func: func.upper()\n",
        "\n",
        "print(s2(s1))\n",
        "\n",
        "\n",
        "Output:\n",
        "\n",
        "GEEKSFORGEEKS\n",
        "\n",
        "This code defines a lambda function named s2 that takes a string as its argument and converts it to uppercase using the upper() method. It then applies this lambda function to the string 'GeeksforGeeks' and prints the result.\n",
        "\n",
        "Let's explore Lambda Function in detail:\n",
        "\n",
        "Python Lambda Function Syntax:\n",
        "\n",
        "Syntax: lambda arguments : expression\n",
        "\n",
        "lambda: The keyword to define the function.\n",
        "arguments: A comma-separated list of input parameters (like in a regular function).\n",
        "\n",
        "expression: A single expression that is evaluated and returned.\n",
        "Let's see some of the practical uses of the Python lambda function.\n",
        "\n",
        "lambda with Condition Checking:\n",
        "A lambda function can include conditions using if statements.\n",
        "\n",
        "Example:\n",
        "\n",
        "# Example: Check if a number is positive, negative, or zero\n",
        "\n",
        "n = lambda x: \"Positive\" if x > 0 else \"Negative\" if x < 0 else \"Zero\"\n",
        "\n",
        "print(n(5))\n",
        "\n",
        "print(n(-3))  \n",
        "\n",
        "print(n(0))\n",
        "\n",
        "Output:\n",
        "\n",
        "Positive\n",
        "\n",
        "Negative\n",
        "\n",
        "Zero\n",
        "\n",
        "Explanation:\n",
        "\n",
        "The lambda function takes x as input.\n",
        "\n",
        "It uses nested if-else statements to return \"Positive,\" \"Negative,\" or \"Zero.\n",
        "\n",
        "9Que: Explain the purpose and usage of the `map()` function in Python.\n",
        "\n",
        "Ans: The map() function is used to apply a given function to every item of an iterable, such as a list or tuple, and returns a map object (which is an iterator).\n",
        "\n",
        "Let's start with a simple example of using map() to convert a list of strings into a list of integers.\n",
        "\n",
        "s = ['1', '2', '3', '4']\n",
        "\n",
        "res = map(int, s)\n",
        "\n",
        "print(list(res))\n",
        "\n",
        "Output:\n",
        "\n",
        "[1, 2, 3, 4]\n",
        "\n",
        "Explanation: Here, we used the built-in int function to convert each string in the list s into an integer. The map() function takes care of applying int() to every element.\n",
        "\n",
        "10Que: What is the difference between `map()`, `reduce()`, and `filter()` functions in Python?\n",
        "\n",
        "Ans: Map Functions:\n",
        "\n",
        " Definition: The map function applies a given function to all items in an input iterable (like a list) and returns an iterator with the results.\n",
        "\n",
        "Key Points:\n",
        "\n",
        "Transformation: Used to transform each item in an iterable by applying the specified function.\n",
        "Syntax:\n",
        "\n",
        "map(function, iterable)\n",
        "\n",
        "\n",
        " Example:\n",
        "\n",
        " number = [1,2,3,4]\n",
        "\n",
        "Squared =  map(lambda x:x*x , numbers)\n",
        "\n",
        "print(list(Squared))\n",
        "\n",
        "Output:\n",
        "\n",
        "1 4 9 16\n",
        "\n",
        "The filter() Function:\n",
        "\n",
        "Similar to map(), filter() takes a function object and an iterable and creates a new list.\n",
        "\n",
        "As the name suggests, filter() forms a new list that contains only elements that satisfy a certain condition, i.e. the function we passed returns True.\n",
        "\n",
        "The syntax is:\n",
        "\n",
        "filter(function, iterable(s))\n",
        "\n",
        "Using the previous example, we can see that the new list will only contain elements for which the starts_with_A() function returns True:\n",
        "\n",
        "# Without using lambdas\n",
        "\n",
        "def starts_with_A(s):\n",
        "\n",
        "    return s[0] == \"A\"\n",
        "\n",
        "fruit = [\"Apple\", \"Banana\", \"Pear\", \"Apricot\", \"Orange\"]\n",
        "\n",
        "filter_object = filter(starts_with_A, fruit)\n",
        "\n",
        "print(list(filter_object))\n",
        "\n",
        "Running this code will result in a shorter list:\n",
        "\n",
        "['Apple', 'Apricot']\n",
        "\n",
        "Or, rewritten using a lambda:\n",
        "\n",
        "fruit = [\"Apple\", \"Banana\", \"Pear\", \"Apricot\", \"Orange\"]\n",
        "\n",
        "filter_object = filter(lambda s: s[0] == \"A\", fruit)\n",
        "\n",
        "print(list(filter_object))\n",
        "\n",
        "Printing gives us the same output:\n",
        "\n",
        "['Apple', 'Apricot']\n",
        "\n",
        "The reduce() Function:\n",
        "\n",
        "reduce() works differently than map() and filter(). It does not return a new list based on the function and iterable we've passed. Instead, it returns a single value.\n",
        "\n",
        "Also, in Python 3 reduce() isn't a built-in function anymore, and it can be found in the functools module.\n",
        "\n",
        "The syntax is:\n",
        "\n",
        "reduce(function, sequence[, initial])\n",
        "\n",
        "reduce() works by calling the function we passed for the first two items in the sequence. The result returned by the function is used in another call to function alongside with the next (third in this case), element.\n",
        "\n",
        "This process repeats until we've gone through all the elements in the sequence.\n",
        "\n",
        "The optional argument initial is used, when present, at the beginning of this \"loop\" with the first element in the first call to function. In a way, the initial element is the 0th element, before the first one, when provided.\n",
        "\n",
        "reduce() is a bit harder to understand than map() and filter(), so let's look at a step by step example:\n",
        "\n",
        "We start with a list [2, 4, 7, 3] and pass the add(x, y) function to reduce() alongside this list, without an initial value\n",
        "\n",
        "reduce() calls add(2, 4), and add() returns 6\n",
        "\n",
        "reduce() calls add(6, 7) (result of the previous call to add() and the next element in the list as parameters), and add() returns 13\n",
        "\n",
        "reduce() calls add(13, 3), and add() returns 16\n",
        "\n",
        "Since no more elements are left in the sequence, reduce() returns 16\n",
        "\n",
        "from functools import reduce\n",
        "\n",
        "def add(x, y):\n",
        "\n",
        "    return x + y\n",
        "\n",
        "list = [2, 4, 7, 3]\n",
        "\n",
        "print(reduce(add, list))\n",
        "\n",
        "Running this code would yield:\n",
        "\n",
        "16\n",
        "\n",
        "Again, this could be written using lambdas:\n",
        "\n",
        "from functools import reduce\n",
        "\n",
        "list = [2, 4, 7, 3]\n",
        "\n",
        "print(reduce(lambda x, y: x + y, list))\n",
        "\n",
        "print(\"With an initial value: \" + str(reduce(lambda x, y: x + y, list, 10)))\n",
        "\n",
        "And the code would result in:\n",
        "\n",
        "16\n",
        "\n",
        "With an initial value: 26\n",
        "\n",
        "\n",
        "11Que:  Using pen & Paper write the internal mechanism for sum operation using  reduce function on this given\n",
        "list:[47,11,42,13];\n",
        "\n",
        "\n",
        "\n"
      ],
      "metadata": {
        "id": "lbu7mR-qX4xo"
      }
    },
    {
      "cell_type": "code",
      "source": [
        "from functools import reduce\n",
        "\n",
        "# Function to add two numbers\n",
        "def add(x, y):\n",
        "    return x + y\n",
        "\n",
        "a = [47,11,42,13]\n",
        "res = reduce(add, a)\n",
        "\n",
        "print(res)"
      ],
      "metadata": {
        "colab": {
          "base_uri": "https://localhost:8080/"
        },
        "id": "Zj7BybAvpFNo",
        "outputId": "1fefb82f-947c-4a59-973b-47e7c64e5529"
      },
      "execution_count": 2,
      "outputs": [
        {
          "output_type": "stream",
          "name": "stdout",
          "text": [
            "113\n"
          ]
        }
      ]
    },
    {
      "cell_type": "markdown",
      "source": [
        "     Pratical Answer:\n",
        "\n",
        "1Que: Write a Python function that takes a list of numbers as input and returns the sum of all even numbers in\n",
        "the list."
      ],
      "metadata": {
        "id": "P6bexpqSpQGr"
      }
    },
    {
      "cell_type": "code",
      "source": [
        "num = int(input('Enter a number: '))\n",
        "sum = 0\n",
        "i = 0\n",
        "while i <= num:\n",
        "    if i % 2 == 0:\n",
        "        print(i)\n",
        "        sum+=i\n",
        "    i+=1\n",
        "print(f\"Sum of all the even numbers is {sum}\")"
      ],
      "metadata": {
        "colab": {
          "base_uri": "https://localhost:8080/"
        },
        "id": "46HQKcktpZoI",
        "outputId": "f0a4ccdc-cf81-4c80-bbce-af2f97e6785d"
      },
      "execution_count": 8,
      "outputs": [
        {
          "output_type": "stream",
          "name": "stdout",
          "text": [
            "Enter a number: 11\n",
            "0\n",
            "2\n",
            "4\n",
            "6\n",
            "8\n",
            "10\n",
            "Sum of all the even numbers is 30\n"
          ]
        }
      ]
    },
    {
      "cell_type": "markdown",
      "source": [
        "2Que: Create a Python function that accepts a string and returns the reverse of that string."
      ],
      "metadata": {
        "id": "RTuzoOoTz32Q"
      }
    },
    {
      "cell_type": "code",
      "source": [
        "def reverse_string(input_string):\n",
        "    return ''.join(reversed(input_string))\n",
        "\n",
        "string = \"Hello, World!\"\n",
        "reversed_string = reverse_string(string)\n",
        "print(reversed_string)"
      ],
      "metadata": {
        "colab": {
          "base_uri": "https://localhost:8080/"
        },
        "id": "djWZlFy9ttk_",
        "outputId": "d0a0f124-6533-4824-c485-9d4c2138db47"
      },
      "execution_count": 1,
      "outputs": [
        {
          "output_type": "stream",
          "name": "stdout",
          "text": [
            "!dlroW ,olleH\n"
          ]
        }
      ]
    },
    {
      "cell_type": "markdown",
      "source": [
        "3Que: Implement a Python function that takes a list of integers and returns a new list containing the squares of\n",
        "each number."
      ],
      "metadata": {
        "id": "znT0_yZaucyb"
      }
    },
    {
      "cell_type": "code",
      "source": [
        "list_nums= [1, 2, 3, 4, 5]\n",
        "\n",
        "for i, v in enumerate(list_nums):\n",
        "   list_nums[i] = v**2\n",
        "\n",
        "print(list_nums)"
      ],
      "metadata": {
        "colab": {
          "base_uri": "https://localhost:8080/"
        },
        "id": "CU9HbYz5ul5v",
        "outputId": "ec369ec6-bc20-4f4a-fe4e-201412512771"
      },
      "execution_count": 2,
      "outputs": [
        {
          "output_type": "stream",
          "name": "stdout",
          "text": [
            "[1, 4, 9, 16, 25]\n"
          ]
        }
      ]
    },
    {
      "cell_type": "markdown",
      "source": [
        "4Que: Write a Python function that checks if a given number is prime or not from 1 to 200."
      ],
      "metadata": {
        "id": "5q7i9BqhvFZU"
      }
    },
    {
      "cell_type": "code",
      "source": [
        "number = int(input(\"Enter any number: \"))\n",
        "\n",
        "# prime number is always greater than 1\n",
        "if number > 1:\n",
        "    for i in range(2, number):\n",
        "        if (number % i) == 0:\n",
        "            print(number, \"is not a prime number\")\n",
        "            break\n",
        "    else:\n",
        "        print(number, \"is a prime number\")\n",
        "\n",
        "# if the entered number is less than or equal to 1\n",
        "# then it is not prime number\n",
        "else:\n",
        "    print(number, \"is not a prime number\")"
      ],
      "metadata": {
        "colab": {
          "base_uri": "https://localhost:8080/"
        },
        "id": "GRljTLPRvMsu",
        "outputId": "6b00628e-b9bc-427a-c44f-69236831f77b"
      },
      "execution_count": 3,
      "outputs": [
        {
          "output_type": "stream",
          "name": "stdout",
          "text": [
            "Enter any number: 147\n",
            "147 is not a prime number\n"
          ]
        }
      ]
    },
    {
      "cell_type": "markdown",
      "source": [
        "5Que:  Create an iterator class in Python that generates the Fibonacci sequence up to a specified number of\n",
        "terms."
      ],
      "metadata": {
        "id": "nooQ8Tfivy19"
      }
    },
    {
      "cell_type": "code",
      "source": [
        "#defining function to return list of fibonacci elements\n",
        "def fibonacci(n):\n",
        "\n",
        "    l = [0,1]\n",
        "    for i in range(2,n):\n",
        "        l.append(l[-1]+l[-2])\n",
        "    return l\n",
        "\n",
        "#Main function\n",
        "if __name__ == \"__main__\":\n",
        "   #defining the total number of elements\n",
        "    n = 10\n",
        "\n",
        "    #calling of function\n",
        "    fibo = fibonacci(n)\n",
        "\n",
        "    #displaying the function\n",
        "    print(\"Fibonacci Series: \",*fibo)"
      ],
      "metadata": {
        "colab": {
          "base_uri": "https://localhost:8080/"
        },
        "id": "3rt9LQoIv5NC",
        "outputId": "5a90ffaf-8db2-4ef0-cd17-1844bd11f820"
      },
      "execution_count": 4,
      "outputs": [
        {
          "output_type": "stream",
          "name": "stdout",
          "text": [
            "Fibonacci Series:  0 1 1 2 3 5 8 13 21 34\n"
          ]
        }
      ]
    },
    {
      "cell_type": "markdown",
      "source": [
        "6Que: Write a generator function in Python that yields the powers of 2 up to a given exponent."
      ],
      "metadata": {
        "id": "xfMeikOVwFG5"
      }
    },
    {
      "cell_type": "code",
      "source": [
        "def power_generator(base, exponent):\n",
        "    result = 1\n",
        "    for i in range(exponent + 1):\n",
        "        yield result\n",
        "        result *= base\n",
        "\n",
        "# Accept input from the user\n",
        "base = int(input(\"Input the base number: \"))\n",
        "exponent = int(input(\"Input the exponent: \"))\n",
        "\n",
        "# Create the generator object\n",
        "power_gen = power_generator(base, exponent)\n",
        "\n",
        "# Generate and print the powers\n",
        "print(f\"Powers of {base} up to exponent {exponent}:\")\n",
        "for power in power_gen:\n",
        "    print(power)\n"
      ],
      "metadata": {
        "colab": {
          "base_uri": "https://localhost:8080/"
        },
        "id": "dbY5PWRxwKmf",
        "outputId": "b986f234-c0f0-461c-8c51-2c1d857d6764"
      },
      "execution_count": 5,
      "outputs": [
        {
          "output_type": "stream",
          "name": "stdout",
          "text": [
            "Input the base number: 4\n",
            "Input the exponent: 3\n",
            "Powers of 4 up to exponent 3:\n",
            "1\n",
            "4\n",
            "16\n",
            "64\n"
          ]
        }
      ]
    },
    {
      "cell_type": "markdown",
      "source": [
        "7Que:  Implement a generator function that reads a file line by line and yields each line as a string."
      ],
      "metadata": {
        "id": "It-CsqzqwnVp"
      }
    },
    {
      "cell_type": "code",
      "source": [
        "def read_file_lines(filepath):\n",
        "    \"\"\"\n",
        "    Reads a file line by line and yields each line.\n",
        "\n",
        "    Args:\n",
        "        filepath (str): The path to the file.\n",
        "\n",
        "    Yields:\n",
        "        str: Each line of the file.\n",
        "    \"\"\"\n",
        "    with open(filepath, 'r') as file:\n",
        "        for line in file:\n",
        "            yield line\n",
        "filepath = 'my_file.txt'\n",
        "with open(filepath, 'w') as f:\n",
        "    f.write(\"This is the first line.\\n\")\n",
        "    f.write(\"This is the second line.\\n\")\n",
        "    f.write(\"This is the third line.\\n\")\n",
        "\n",
        "for line in read_file_lines(filepath):\n",
        "    print(line, end=\"\")"
      ],
      "metadata": {
        "colab": {
          "base_uri": "https://localhost:8080/"
        },
        "id": "j2xvtMy6wzFS",
        "outputId": "7db95147-0998-4071-ba5d-d0c0ac78bcb1"
      },
      "execution_count": 7,
      "outputs": [
        {
          "output_type": "stream",
          "name": "stdout",
          "text": [
            "This is the first line.\n",
            "This is the second line.\n",
            "This is the third line.\n"
          ]
        }
      ]
    },
    {
      "cell_type": "markdown",
      "source": [
        "8Que: Use a lambda function in Python to sort a list of tuples based on the second element of each tuple."
      ],
      "metadata": {
        "id": "XMoUjG4XyotE"
      }
    },
    {
      "cell_type": "code",
      "source": [
        "def sort_tuples_by_second_element(list_of_tuples):\n",
        "  \"\"\"\n",
        "  Sorts a list of tuples based on the second element of each tuple.\n",
        "\n",
        "  Args:\n",
        "    list_of_tuples: A list of tuples.\n",
        "\n",
        "  Returns:\n",
        "    A new list of tuples sorted by the second element.\n",
        "  \"\"\"\n",
        "  return sorted(list_of_tuples, key=lambda x: x[1])\n",
        "\n",
        "# Example usage:\n",
        "my_list = [(1, 'z'), (2, 'a'), (3, 'b')]\n",
        "sorted_list = sort_tuples_by_second_element(my_list)\n",
        "print(sorted_list)\n",
        "# Expected output: [(2, 'a'), (3, 'b'), (1, 'z')]"
      ],
      "metadata": {
        "colab": {
          "base_uri": "https://localhost:8080/"
        },
        "id": "oKkwuVLdyyHD",
        "outputId": "80da8e7f-d000-4ffe-a8ad-9a6d87f132ed"
      },
      "execution_count": 8,
      "outputs": [
        {
          "output_type": "stream",
          "name": "stdout",
          "text": [
            "[(2, 'a'), (3, 'b'), (1, 'z')]\n"
          ]
        }
      ]
    },
    {
      "cell_type": "markdown",
      "source": [
        "9Que: Write a Python program that uses `map()` to convert a list of temperatures from Celsius to Fahrenheit."
      ],
      "metadata": {
        "id": "_QnM2ASgzO3c"
      }
    },
    {
      "cell_type": "code",
      "source": [
        "\n",
        "def celsius_to_fahrenheit(celsius):\n",
        "  \"\"\"Converts Celsius to Fahrenheit.\"\"\"\n",
        "  return (celsius * 9/5) + 32\n",
        "\n",
        "# Example list of Celsius temperatures\n",
        "celsius_temperatures = [0, 10, 20, 30, 40]\n",
        "\n",
        "# Use map to apply the conversion function to each element\n",
        "fahrenheit_temperatures = list(map(celsius_to_fahrenheit, celsius_temperatures))\n",
        "\n",
        "# Print the results\n",
        "print(\"Celsius temperatures:\", celsius_temperatures)\n",
        "print(\"Fahrenheit temperatures:\", fahrenheit_temperatures)"
      ],
      "metadata": {
        "colab": {
          "base_uri": "https://localhost:8080/"
        },
        "id": "e7c2SjEUza0-",
        "outputId": "a9be0a6b-f7bc-480f-f597-8d0e6e634e00"
      },
      "execution_count": 9,
      "outputs": [
        {
          "output_type": "stream",
          "name": "stdout",
          "text": [
            "Celsius temperatures: [0, 10, 20, 30, 40]\n",
            "Fahrenheit temperatures: [32.0, 50.0, 68.0, 86.0, 104.0]\n"
          ]
        }
      ]
    },
    {
      "cell_type": "markdown",
      "source": [
        "10Que:  Create a Python program that uses `filter()` to remove all the vowels from a given string."
      ],
      "metadata": {
        "id": "mvGiHXf_zlIj"
      }
    },
    {
      "cell_type": "code",
      "source": [
        "string = \"Education\"\n",
        "\n",
        "vowels = ['a', 'e', 'i', 'o', 'u', 'A', 'E', 'I', 'O', 'U']\n",
        "result = \"\"\n",
        "\n",
        "for i in range(len(string)):\n",
        "    if string[i] not in vowels:\n",
        "        result = result + string[i]\n",
        "\n",
        "print(\"\\nAfter removing Vowels: \", result)"
      ],
      "metadata": {
        "colab": {
          "base_uri": "https://localhost:8080/"
        },
        "id": "5zUTiB12zqPl",
        "outputId": "faf9b490-f55d-4f8c-9672-450ce9707589"
      },
      "execution_count": 10,
      "outputs": [
        {
          "output_type": "stream",
          "name": "stdout",
          "text": [
            "\n",
            "After removing Vowels:  dctn\n"
          ]
        }
      ]
    },
    {
      "cell_type": "markdown",
      "source": [
        "11Que: Write a Python program, which returns a list with 2-tuples. Each tuple consists of the order number and the\n",
        "product of the price per item and the quantity. The product should be increased by 10,- € if the value of the\n",
        "order is smaller than 100,00 €.\n",
        "\n",
        "Write a Python program using lambda and map.\n",
        "\n",
        "\n",
        "Ans:\n",
        " from functools import reduce\n",
        "\n",
        "'''\n",
        "\n",
        "1.Imagine an accounting routine used in a book shop. It works on a list with sublists, which look like this:\n",
        "\n",
        "Order Number\tBook Title and Author\tQuantity\tPrice per Item\n",
        "34587\tLearning Python, Mark Lutz\t4\t40.95\n",
        "98762\tProgramming Python, Mark Lutz\t5\t56.80\n",
        "77226\tHead First Python, Paul Barry\t3\t32.95\n",
        "88112\tEinführung in Python3, Bernd Klein\t3\t24.99\n",
        "\n",
        "\n",
        "Write a Python program, which returns a list with 2-tuples. Each tuple consists of a the order number and the product of the price per items and the quantity. The product should be increased by 10,- € if the value of the order is less than 100,00 €.\n",
        "Write a Python program using lambda and map.\n",
        "\n",
        "\n",
        "2.The same bookshop, but this time we work on a different list. The sublists of our lists look like this:\n",
        "[ordernumber, (article number, quantity, price per unit), ... (article number, quantity, price per unit) ]\n",
        "Write a program which returns a list of two tuples with (order number, total amount of order).\n",
        "\n",
        "'''\n",
        "\n",
        "#Solution-1\n",
        "\n",
        "orders = [ [\"34587\", \"Learning Python, Mark Lutz\", 4, 40.95],[\"98762\", \"Programming Python, Mark Lutz\", 5, 56.80],[\"77226\", \"Head First Python, Paul Barry\", 3,32.95],[\"88112\", \"Einführung in Python3, Bernd Klein\", \t3, 24.99]]\n",
        "\n",
        "invoice_totals = list(map(lambda x: x if x[1] >= min_order else (x[0], x[1] + 10),map(lambda x: (x[0],x[2] * x[3]), orders)))\n",
        "\n",
        "#Note- To understand the working of above lambda function break the function till innermost map function. Break and understand in below fashion\n",
        "'''\n",
        "output1 = map(lambda x: (x[0],x[2] * x[3]), orders) #Innermost lambda function execution\n",
        "\n",
        "output2 = map(lambda x: x if x[1] >= min_order else (x[0], x[1] + 10),map(lambda x: (x[0],x[2] * x[3]), orders))\n",
        "\n",
        "final = list(map(lambda x: x if x[1] >= min_order else (x[0], x[1] + 10),map(lambda x: (x[0],x[2] * x[3]), orders)))\n",
        "'''\n",
        "\n",
        "#Solution-2\n",
        "\n",
        "from functools import reduce\n",
        "\n",
        "orders = [ [1, (\"5464\", 4, 9.99), (\"8274\",18,12.99), (\"9744\", 9, 44.95)],[2, (\"5464\", 9, 9.99), (\"9744\", 9, 44.95)],[3, (\"5464\", 9, 9.99), (\"88112\", 11, 24.99)],[4, (\"8732\", 7, 11.99), (\"7733\",11,18.99), (\"88112\", 5, 39.95)] ]\n",
        "\n",
        "invoice = list(map(lambda k: k if k[1]>=100 else (k[0],k[1]+10),map(lambda x:(x[0],reduce(lambda a,b:a+b,list(map(lambda y:y[1]*y[2] ,x[1:])))),orders)))\n",
        "\n",
        "#Breaking\n",
        "\n",
        "'''\n",
        "output1=map(lambda y:y[1]*y[2] ,x[1:])\n",
        "output2=list(map(lambda y:y[1]*y[2] ,x[1:]))\n",
        "output3=reduce(lambda a,b:a+b,list(map(lambda y:y[1]*y[2] ,x[1:])))\n",
        "output4=map(lambda x:(x[0],reduce(lambda a,b:a+b,list(map(lambda y:y[1]*y[2] ,x[1:]))))\n",
        "output5=map(lambda k: k if k[1]>=100 else (k[0],k[1]+10),map(lambda x:(x[0],reduce(lambda a,b:a+b,list(map(lambda y:y[1]*y[2] ,x[1:])))),orders))\n",
        "output6=list(map(lambda k: k if k[1]>=100 else (k[0],k[1]+10),map(lambda x:(x[0],reduce(lambda a,b:a+b,list(map(lambda y:y[1]*y[2] ,x[1:])))),orders)))\n",
        "'''\n",
        "\n"
      ],
      "metadata": {
        "id": "fEonhExI0bRt"
      }
    },
    {
      "cell_type": "markdown",
      "source": [],
      "metadata": {
        "id": "p2llzA5K12oo"
      }
    }
  ]
}